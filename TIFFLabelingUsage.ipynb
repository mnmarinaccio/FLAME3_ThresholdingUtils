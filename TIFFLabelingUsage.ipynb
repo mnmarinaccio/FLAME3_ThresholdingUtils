{
 "cells": [
  {
   "cell_type": "markdown",
   "id": "b140e99d-259e-461c-bb9c-771839c955ad",
   "metadata": {
    "tags": []
   },
   "source": [
    "# FLAME Labeling\n",
    "\n",
    "Created by: Michael Marinaccio, Clemson University <br />\n",
    "https://github.com/mnmarinaccio <br />\n",
    "Date: 03-05-2024"
   ]
  },
  {
   "cell_type": "code",
   "execution_count": 1,
   "id": "d43db685-2624-48e3-8914-8c30874ebfe3",
   "metadata": {
    "tags": []
   },
   "outputs": [],
   "source": [
    "from PIL import Image\n",
    "import numpy as np\n",
    "import os\n",
    "from utils.TIFF_Utilities import analyzeTiff\n",
    "from utils.TIFF_Labeling_Utilities import *"
   ]
  },
  {
   "cell_type": "markdown",
   "id": "528dbb04-3079-47ee-9491-e4d208300200",
   "metadata": {
    "tags": []
   },
   "source": [
    "### Analyze TIFF Data"
   ]
  },
  {
   "cell_type": "code",
   "execution_count": 2,
   "id": "14550476-f937-47e5-8da9-edffc9fd37eb",
   "metadata": {
    "tags": []
   },
   "outputs": [
    {
     "name": "stdout",
     "output_type": "stream",
     "text": [
      "WILAMETTE TIFF DETAILS\n",
      "SHAPE: (512, 640)\n",
      "ABSOLUTE MIN VALUE: 14.301477432250977\n",
      "ABSOLUTE MAX VALUE: 500.0\n",
      "\n"
     ]
    }
   ],
   "source": [
    "# define path to TIFF file\n",
    "dataset = 'Wilamette'\n",
    "imageNum = '00001'\n",
    "tiff_file_path = f'./data/Images_{dataset}/TIFF/{imageNum}.TIFF'\n",
    "wilametteTiff = analyzeTiff(tiff_file_path)"
   ]
  },
  {
   "cell_type": "markdown",
   "id": "210c0584-850f-4d9a-b294-72cf1f1e7d25",
   "metadata": {},
   "source": [
    "### Single Image TIFF Labeling, No Colormap, 0 - numClasses"
   ]
  },
  {
   "cell_type": "code",
   "execution_count": 3,
   "id": "559b9530-71db-46eb-89cc-15a5ca4dfea2",
   "metadata": {
    "tags": []
   },
   "outputs": [
    {
     "name": "stdout",
     "output_type": "stream",
     "text": [
      "Labeling ./data/Images_Wilamette/TIFF/00001.TIFF\n",
      "Saved to ./output_images/Wilamette_GT_00001.png\n"
     ]
    }
   ],
   "source": [
    "#SINGLE IMAGE USE\n",
    "dataset = 'Wilamette'\n",
    "imageNum = f'00001'\n",
    "num_classes = 6\n",
    "height = 512 \n",
    "width = 640\n",
    "tiffBinaryPath = f'./output_folders/{dataset}_OTSU/{imageNum}.TIFF'\n",
    "tiffSamplePath = f'./data/Images_{dataset}/TIFF/{imageNum}.TIFF'\n",
    "labeledImage = labelTiff(tiffSamplePath, tiffBinaryPath, num_classes, height, width, labelTolerance=0.3)\n",
    "# Convert NumPy array to PIL Image\n",
    "outputImage = Image.fromarray(labeledImage.astype(np.uint8))\n",
    "# Save the image as PNG\n",
    "outputImage.save(f'./output_images/{dataset}_GT_{imageNum}.png')\n",
    "print(f'Saved to ./output_images/{dataset}_GT_{imageNum}.png')"
   ]
  },
  {
   "cell_type": "markdown",
   "id": "7f47fb77-3462-4d79-947d-2506dcb42799",
   "metadata": {},
   "source": [
    "### Folder TIFF Labeling, No Colormap, 0 - numClasses"
   ]
  },
  {
   "cell_type": "code",
   "execution_count": 4,
   "id": "bbcdb2b0-ff48-4e5b-b939-8b7ea1876f6c",
   "metadata": {
    "tags": []
   },
   "outputs": [
    {
     "name": "stdout",
     "output_type": "stream",
     "text": [
      "Labeling ./data/Images_Wilamette/TIFF/00001.TIFF\n",
      "Labeling ./data/Images_Wilamette/TIFF/00002.TIFF\n",
      "Labeling ./data/Images_Wilamette/TIFF/00003.TIFF\n",
      "Labeling ./data/Images_Wilamette/TIFF/00004.TIFF\n",
      "Labeling ./data/Images_Wilamette/TIFF/00005.TIFF\n",
      "Saved all files to ./output_folders/Wilamette_GT/Labels_NoColor\n"
     ]
    }
   ],
   "source": [
    "#FOLDER LABELING USE\n",
    "#Define the directory containing TIFF files\n",
    "dataset = 'Wilamette'\n",
    "num_classes = 6\n",
    "height = 512 \n",
    "width = 640\n",
    "folder_path = f'./output_folders/{dataset}_OTSU'\n",
    "output_folder = f'./output_folders/{dataset}_GT/Labels_NoColor'\n",
    "# Make sure output folder exists\n",
    "os.makedirs(output_folder, exist_ok=True)\n",
    "\n",
    "# Loop through all .TIFF files\n",
    "for filename in os.listdir(folder_path):\n",
    "    if filename.endswith('.TIFF'):\n",
    "        tiffBinaryPath = os.path.join(folder_path, filename)\n",
    "        tiffSamplePath = f'./data/Images_{dataset}/TIFF/{filename}'\n",
    "        labeledImage = labelTiff(tiffSamplePath, tiffBinaryPath, num_classes, height, width, labelTolerance=0.3)\n",
    "        # Convert NumPy array to PIL Image\n",
    "        outputImage = Image.fromarray(labeledImage.astype(np.uint8))\n",
    "        # Save the image as PNG in the ensured folder\n",
    "        outputImage.save(os.path.join(output_folder, f'{filename[0:5]}.png'))\n",
    "print(f'Saved all files to {output_folder}')"
   ]
  },
  {
   "cell_type": "markdown",
   "id": "778d10c4-4ee2-4d2f-b9e4-174fcf855fca",
   "metadata": {},
   "source": [
    "### Single Image TIFF Labeling, Colormap Applied"
   ]
  },
  {
   "cell_type": "code",
   "execution_count": 5,
   "id": "b7d02d48-62ab-431a-90df-01e00538bb93",
   "metadata": {
    "tags": []
   },
   "outputs": [
    {
     "name": "stdout",
     "output_type": "stream",
     "text": [
      "Colored and saved to ./output_images/Wilamette_GT_00001_colored.png\n",
      "Image ./output_images/Wilamette_GT_00001.png colored and saved to ./output_images/Wilamette_GT_00001_colored.png\n"
     ]
    }
   ],
   "source": [
    "# SINGLE USE\n",
    "dataset = 'Wilamette'\n",
    "imageNum = '00001'\n",
    "num_classes = 6  \n",
    "input_filename = f'./output_images/{dataset}_GT_{imageNum}.png'\n",
    "output_filename = f'./output_images/{dataset}_GT_{imageNum}_colored.png'\n",
    "\n",
    "apply_colormap_and_save(input_filename, output_filename, num_classes)\n",
    "print(f'Image ./output_images/{dataset}_GT_{imageNum}.png colored and saved to {output_filename}')"
   ]
  },
  {
   "cell_type": "markdown",
   "id": "40b31849-61d3-4d97-8f0f-c29b7dd7894d",
   "metadata": {},
   "source": [
    "### Folder TIFF Labeling, Colormap Applied"
   ]
  },
  {
   "cell_type": "code",
   "execution_count": 6,
   "id": "cbdfee86-4444-49d1-8711-787fa5bc6d59",
   "metadata": {
    "tags": []
   },
   "outputs": [
    {
     "name": "stdout",
     "output_type": "stream",
     "text": [
      "Colored and saved to ./output_folders/Wilamette_GT/Labels_Colored/00001.png\n",
      "Colored and saved to ./output_folders/Wilamette_GT/Labels_Colored/00002.png\n",
      "Colored and saved to ./output_folders/Wilamette_GT/Labels_Colored/00003.png\n",
      "Colored and saved to ./output_folders/Wilamette_GT/Labels_Colored/00004.png\n",
      "Colored and saved to ./output_folders/Wilamette_GT/Labels_Colored/00005.png\n"
     ]
    }
   ],
   "source": [
    "#FOLDER USE\n",
    "# Define the directory containing TIFF files\n",
    "dataset = 'Wilamette'\n",
    "num_classes = 6\n",
    "height = 512 \n",
    "width = 640\n",
    "folder_path = f'./output_folders/{dataset}_GT/Labels_NoColor'\n",
    "output_folder = f'./output_folders/{dataset}_GT/Labels_Colored'\n",
    "# Make sure output folder exists\n",
    "os.makedirs(output_folder, exist_ok=True)\n",
    "\n",
    "# Loop through all labeled .png files\n",
    "for filename in os.listdir(folder_path):\n",
    "    if filename.endswith('.png'): \n",
    "        input_filename = f'{folder_path}/{filename}'\n",
    "        output_filename = f'{output_folder}/{filename[0:5]}.png'\n",
    "        apply_colormap_and_save(input_filename, output_filename, num_classes)"
   ]
  },
  {
   "cell_type": "markdown",
   "id": "6e1ed8b2-9001-4030-9f93-40306450a984",
   "metadata": {},
   "source": [
    "### TIFF Labeling Check, Input Labels with No Colormap Applied"
   ]
  },
  {
   "cell_type": "code",
   "execution_count": 7,
   "id": "76fc3a18-66f9-48a1-942e-c179018f8943",
   "metadata": {
    "tags": []
   },
   "outputs": [
    {
     "name": "stdout",
     "output_type": "stream",
     "text": [
      "./output_folders/Wilamette_GT/Labels_NoColor/00001.png LABELED CORRECTLY\n",
      "./output_folders/Wilamette_GT/Labels_NoColor/00002.png LABELED CORRECTLY\n",
      "./output_folders/Wilamette_GT/Labels_NoColor/00003.png LABELED CORRECTLY\n",
      "./output_folders/Wilamette_GT/Labels_NoColor/00004.png LABELED CORRECTLY\n",
      "./output_folders/Wilamette_GT/Labels_NoColor/00005.png LABELED CORRECTLY\n"
     ]
    }
   ],
   "source": [
    "# Loop through all .png labeled files\n",
    "dataset = 'Wilamette'\n",
    "num_classes = 6\n",
    "folder_path = f'./output_folders/{dataset}_GT/Labels_NoColor'\n",
    "for filename in os.listdir(folder_path):\n",
    "    if filename.endswith('.png'):\n",
    "        tempArray = checkLabels(f'{folder_path}/{filename}', num_classes)\n",
    "        "
   ]
  }
 ],
 "metadata": {
  "kernelspec": {
   "display_name": "Python (sam_env)",
   "language": "python",
   "name": "sam_env"
  },
  "language_info": {
   "codemirror_mode": {
    "name": "ipython",
    "version": 3
   },
   "file_extension": ".py",
   "mimetype": "text/x-python",
   "name": "python",
   "nbconvert_exporter": "python",
   "pygments_lexer": "ipython3",
   "version": "3.8.20"
  }
 },
 "nbformat": 4,
 "nbformat_minor": 5
}
