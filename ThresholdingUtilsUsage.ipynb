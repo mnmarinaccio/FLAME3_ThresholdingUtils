{
 "cells": [
  {
   "cell_type": "markdown",
   "id": "64987be5-fc84-4c62-ad8f-515071325029",
   "metadata": {
    "tags": []
   },
   "source": [
    "# TIFF to Binary Segmentation Image Tools\n",
    "\n",
    "Created by: Michael Marinaccio, Clemson University <br />\n",
    "https://github.com/mnmarinaccio <br />\n",
    "Date: 03-05-2024\n"
   ]
  },
  {
   "cell_type": "code",
   "execution_count": 1,
   "id": "6f05b2d1-55da-4afc-9fc7-c3cf9d926ca3",
   "metadata": {},
   "outputs": [],
   "source": [
    "# Package Import\n",
    "from utils.OtsuUtils import otsu_threshold\n",
    "from utils.ThresholdingUtils import tiff_image_convert\n",
    "from utils.ThresholdingUtils import tiff_folder_convert\n",
    "from utils.TIFF_Utilities import tiff_convert_to_greyscale"
   ]
  },
  {
   "cell_type": "markdown",
   "id": "f5514109-08ba-4d69-b5ab-bf5d053026a2",
   "metadata": {},
   "source": [
    "## Example Folder Usage"
   ]
  },
  {
   "cell_type": "markdown",
   "id": "d2763f7b-9e09-406c-8f82-b5d5a340b0d8",
   "metadata": {},
   "source": [
    "### Binary Thresholding"
   ]
  },
  {
   "cell_type": "code",
   "execution_count": 2,
   "id": "88701d5c-ee67-4576-8557-36423d61149d",
   "metadata": {},
   "outputs": [
    {
     "name": "stdout",
     "output_type": "stream",
     "text": [
      "Grabbing images from: ./data/Images_Wilamette/TIFF\n",
      "Saving images to: ./output_folders/Wilamette_BINARY_30\n",
      "Number of Images Processed : 1\n"
     ]
    }
   ],
   "source": [
    "# Convert entire TIFF Folder to Binary Image with Standard Thresholding\n",
    "thresh = 30\n",
    "threshType = 'BINARY'\n",
    "dataset = 'Wilamette'\n",
    "input_folder = f'./data/Images_{dataset}/TIFF' \n",
    "output_folder = f'./output_folders/{dataset}_{threshType}_{thresh}'\n",
    "tiff_folder_convert(input_folder, output_folder, threshType, binThresh=thresh)"
   ]
  },
  {
   "cell_type": "markdown",
   "id": "bffda613-d7bf-4d06-bb8f-232795e8b418",
   "metadata": {},
   "source": [
    "### Hysteresis"
   ]
  },
  {
   "cell_type": "code",
   "execution_count": 3,
   "id": "eabe2397-699b-4376-b58c-72a76e15ce0c",
   "metadata": {},
   "outputs": [
    {
     "name": "stdout",
     "output_type": "stream",
     "text": [
      "Grabbing images from: ./data/Images_Wilamette/TIFF\n",
      "Saving images to: ./output_folders/Wilamette_HYST_90_110\n",
      "Number of Images Processed : 1\n"
     ]
    }
   ],
   "source": [
    "# Convert TIFF to Binary Image with Hysteresis Thresholding\n",
    "low_threshold = 90\n",
    "high_threshold = 110\n",
    "threshType = 'HYST'\n",
    "dataset = 'Wilamette'\n",
    "input_folder = f'./data/Images_{dataset}/TIFF' \n",
    "output_folder = f'./output_folders/{dataset}_{threshType}_{low_threshold}_{high_threshold}'\n",
    "tiff_folder_convert(input_folder, output_folder, threshType, low_threshold=low_threshold, high_threshold=high_threshold)"
   ]
  },
  {
   "cell_type": "markdown",
   "id": "4604c11d-6d0c-43cf-b0ea-f3c2736a1647",
   "metadata": {},
   "source": [
    "### Otsu's Method"
   ]
  },
  {
   "cell_type": "code",
   "execution_count": 4,
   "id": "7c4a473e-6666-428b-8378-c0939e7629f0",
   "metadata": {},
   "outputs": [
    {
     "name": "stdout",
     "output_type": "stream",
     "text": [
      "Grabbing images from: ./data/Images_Wilamette/TIFF\n",
      "Saving images to: ./output_folders/Wilamette_OTSU\n",
      "Number of Images Processed : 1\n",
      "Mean Optimal Threshold = 100.2\n",
      "Data written to ././output_folders/Wilamette_OTSU/optimal_thresholds.csv.\n"
     ]
    }
   ],
   "source": [
    "# Convert TIFF to Binary Image with Otsu Thresholding\n",
    "threshType = 'OTSU'\n",
    "dataset = 'Wilamette'\n",
    "input_folder = f'./data/Images_{dataset}/TIFF'\n",
    "output_folder = f'./output_folders/{dataset}_{threshType}'\n",
    "tiff_folder_convert(input_folder, output_folder, threshType)"
   ]
  },
  {
   "cell_type": "markdown",
   "id": "8143da0e-75bd-4340-b0f3-b3f67a536ea7",
   "metadata": {
    "tags": []
   },
   "source": [
    "## Example Single Image Usage"
   ]
  },
  {
   "cell_type": "markdown",
   "id": "95e85948-13db-4acf-a1a3-38e646fb6c84",
   "metadata": {},
   "source": [
    "### Binary Thresholding"
   ]
  },
  {
   "cell_type": "code",
   "execution_count": 5,
   "id": "e6d3cb2a-008e-4f7b-83fb-67743fbd842e",
   "metadata": {},
   "outputs": [
    {
     "name": "stdout",
     "output_type": "stream",
     "text": [
      "Image Saved in ./output_images/Wilamette_00001_BINARY_100.2.TIFF\n"
     ]
    }
   ],
   "source": [
    "# Convert TIFF to Binary Image with Standard Thresholding\n",
    "dataset = 'Wilamette'\n",
    "imageNum = '00001'\n",
    "threshType = 'BINARY'\n",
    "thresh = 100.2\n",
    "input_image = f'./data/Images_{dataset}/TIFF/{imageNum}.TIFF' \n",
    "output_image_path = f'./output_images/{dataset}_{imageNum}_{threshType}'\n",
    "tiff_bin_image = tiff_image_convert(input_image, output_image_path, threshType, binThresh=thresh)"
   ]
  },
  {
   "cell_type": "markdown",
   "id": "77efeda6-615d-4364-b538-81db2ca4f475",
   "metadata": {
    "tags": []
   },
   "source": [
    "### Hysteresis"
   ]
  },
  {
   "cell_type": "code",
   "execution_count": 6,
   "id": "2f346df9-5cb1-468b-85de-5df4d8f2c76c",
   "metadata": {},
   "outputs": [
    {
     "name": "stdout",
     "output_type": "stream",
     "text": [
      "Hysteresis Thresholds -> Low: 50, High: 150\n",
      "Image Saved in ./output_images/Wilamette_00001_HYST_30_90.TIFF\n"
     ]
    }
   ],
   "source": [
    "# Convert TIFF to Binary Image with Hysteresis\n",
    "dataset = 'Wilamette'\n",
    "imageNum = '00001'\n",
    "threshType = 'HYST'\n",
    "low_threshold = 30\n",
    "high_threshold = 90\n",
    "input_image = f'./data/Images_{dataset}/TIFF/{imageNum}.TIFF' \n",
    "output_image_path = f'./output_images/{dataset}_{imageNum}_{threshType}_{str(low_threshold)}_{str(high_threshold)}'\n",
    "tiff_hyst_image = tiff_image_convert(input_image, output_image_path, threshType, low_threshold, high_threshold)"
   ]
  },
  {
   "cell_type": "markdown",
   "id": "05070b00-aa89-4c89-a69b-b01368297c8f",
   "metadata": {},
   "source": [
    "### Otsu's Method"
   ]
  },
  {
   "cell_type": "code",
   "execution_count": 7,
   "id": "122cbb1d-f2da-495d-8b0c-7443a04d69c2",
   "metadata": {},
   "outputs": [
    {
     "name": "stdout",
     "output_type": "stream",
     "text": [
      "Optimal Threshold Found = 104\n",
      "Image Saved in ./output_images/Wilamette_00001_OTSU_104.TIFF\n"
     ]
    }
   ],
   "source": [
    "# Convert TIFF to Binary Image with Otsu's Method\n",
    "dataset = 'Wilamette'\n",
    "imageNum = '00001'\n",
    "threshType = 'OTSU'\n",
    "input_image = f'./data/Images_{dataset}/TIFF/{imageNum}.TIFF' \n",
    "output_image_path = f'./output_images/{dataset}_{imageNum}_{threshType}'\n",
    "tiff_otsu_image = tiff_image_convert(input_image, output_image_path, threshType)"
   ]
  },
  {
   "cell_type": "markdown",
   "id": "cea59968-a18b-4d06-821a-8c566b27cfb4",
   "metadata": {
    "tags": []
   },
   "source": [
    "## Example Thermal JPG Usage"
   ]
  },
  {
   "cell_type": "code",
   "execution_count": 8,
   "id": "2be97e84-3ccc-4c71-8c4b-9c1d19e97ce2",
   "metadata": {
    "tags": []
   },
   "outputs": [
    {
     "name": "stdout",
     "output_type": "stream",
     "text": [
      "Optimal Threshold Found = 57\n",
      "Image Saved in ./output_images/Wilamette_00001_OTSU_thermal_57.TIFF\n"
     ]
    }
   ],
   "source": [
    "# Convert Thermal JPG to Binary Image with Otsu's Method\n",
    "dataset = 'Wilamette'\n",
    "imageNum = '00001'\n",
    "threshType = 'OTSU'\n",
    "input_image = f'./data/Images_{dataset}/Thermal/{imageNum}.JPG' \n",
    "output_image_path = f'./output_images/{dataset}_{imageNum}_{threshType}_thermal'\n",
    "tiff_otsu_image = tiff_image_convert(input_image, output_image_path, threshType, thermal_image=True)"
   ]
  },
  {
   "cell_type": "markdown",
   "id": "4bba7844-ac72-42c4-a732-1c41f698075f",
   "metadata": {},
   "source": [
    "## Example TIFF Conversion to Greyscale and Colormap Visualization"
   ]
  },
  {
   "cell_type": "code",
   "execution_count": 9,
   "id": "bf209ad0-63f5-4a37-b3cd-3a7507d37107",
   "metadata": {},
   "outputs": [
    {
     "data": {
      "image/png": "[encoded data removed]",
      "text/plain": [
       "<Figure size 640x480 with 1 Axes>"
      ]
     },
     "metadata": {},
     "output_type": "display_data"
    }
   ],
   "source": [
    "dataset = 'Wilamette'\n",
    "imageNum = '00001'\n",
    "threshType = 'OTSU'\n",
    "thresh = '104'\n",
    "input_image = f'./output_images/{dataset}_{imageNum}_{threshType}_{thresh}.TIFF'\n",
    "greyImage = tiff_convert_to_greyscale(input_image, f'./output_images/{dataset}_{imageNum}_{threshType}_{thresh}.jpg')"
   ]
  }
 ],
 "metadata": {
  "kernelspec": {
   "display_name": "Python (sam_env)",
   "language": "python",
   "name": "sam_env"
  },
  "language_info": {
   "codemirror_mode": {
    "name": "ipython",
    "version": 3
   },
   "file_extension": ".py",
   "mimetype": "text/x-python",
   "name": "python",
   "nbconvert_exporter": "python",
   "pygments_lexer": "ipython3",
   "version": "3.8.20"
  }
 },
 "nbformat": 4,
 "nbformat_minor": 5
}
